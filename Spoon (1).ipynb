{
 "cells": [
  {
   "cell_type": "code",
   "execution_count": 1,
   "metadata": {},
   "outputs": [],
   "source": [
    "from resonance.nonlinear_systems import MultiDoFNonLinearSystem\n",
    "sys = MultiDoFNonLinearSystem()"
   ]
  },
  {
   "cell_type": "code",
   "execution_count": null,
   "metadata": {},
   "outputs": [],
   "source": [
    "sys.constants['m'] = 100 # kg\n",
    "sys.constants['c'] = 1.1 * 1.2 * 8.5/2\n",
    "sys.constants['k'] = 10\n",
    "sys.constants['Fo'] = 1000 # N\n",
    "sys.constants['Ft'] = 100 # N/s\n",
    "sys.constants['to'] = 3.0 # s\n",
    "\n",
    "sys.coordinates['x'] = 0.0\n",
    "sys.speeds['v'] = 0.0"
   ]
  }
 ],
 "metadata": {
  "kernelspec": {
   "display_name": "Python 3",
   "language": "python",
   "name": "python3"
  },
  "language_info": {
   "codemirror_mode": {
    "name": "ipython",
    "version": 3
   },
   "file_extension": ".py",
   "mimetype": "text/x-python",
   "name": "python",
   "nbconvert_exporter": "python",
   "pygments_lexer": "ipython3",
   "version": "3.6.7"
  }
 },
 "nbformat": 4,
 "nbformat_minor": 4
}
